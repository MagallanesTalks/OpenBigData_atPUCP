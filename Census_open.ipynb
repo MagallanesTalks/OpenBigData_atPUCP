{
  "nbformat": 4,
  "nbformat_minor": 0,
  "metadata": {
    "colab": {
      "provenance": []
    },
    "kernelspec": {
      "name": "python3",
      "display_name": "Python 3"
    },
    "language_info": {
      "name": "python"
    }
  },
  "cells": [
    {
      "cell_type": "markdown",
      "source": [
        "<center><img src=\"https://github.com/MAGALLANESJoseManuel/OpenDataBigData_at_quality4point0/blob/main/logo.png?raw=true\n",
        "\" width=\"1000\"></center>\n",
        "\n",
        "\n",
        "\n",
        "# The Census Data\n",
        "\n"
      ],
      "metadata": {
        "id": "w2MD4NGTS5tv"
      }
    },
    {
      "cell_type": "code",
      "execution_count": null,
      "metadata": {
        "id": "JiYzIa5GMoPX"
      },
      "outputs": [],
      "source": [
        "GitFolder=\"https://github.com/MagallanesTalks/OpenBigData_atPUCP/raw/refs/heads/main/data/\"\n",
        "\n",
        "linkCensoEdad=GitFolder+\"edadesCenso.xlsx\"\n",
        "\n",
        "import pandas as pd\n",
        "\n",
        "edad=pd.read_excel(linkCensoEdad)"
      ]
    },
    {
      "cell_type": "code",
      "source": [
        "edad.info()"
      ],
      "metadata": {
        "id": "UixpbtZeNS4x"
      },
      "execution_count": null,
      "outputs": []
    },
    {
      "cell_type": "code",
      "source": [
        "# check\n",
        "edad"
      ],
      "metadata": {
        "id": "MTCqDxqAhLTn"
      },
      "execution_count": null,
      "outputs": []
    },
    {
      "cell_type": "markdown",
      "source": [
        "We should not bring unneeded rows:"
      ],
      "metadata": {
        "id": "9JyKG0DUhR0C"
      }
    },
    {
      "cell_type": "code",
      "source": [
        "edad=pd.read_excel(linkCensoEdad,skiprows=5,skipfooter=3)\n",
        "\n",
        "# check data types\n",
        "edad.info()"
      ],
      "metadata": {
        "id": "UOfknFImNZtR"
      },
      "execution_count": null,
      "outputs": []
    },
    {
      "cell_type": "markdown",
      "source": [
        "See how it looks:"
      ],
      "metadata": {
        "id": "wCYXo1WQh1zZ"
      }
    },
    {
      "cell_type": "code",
      "source": [
        "edad"
      ],
      "metadata": {
        "id": "F_vNiYash4_D"
      },
      "execution_count": null,
      "outputs": []
    },
    {
      "cell_type": "markdown",
      "source": [
        "Plan:\n",
        "- No need for the first column.\n",
        "- Rename 'Código'.\n",
        "- Clean the column names (no spaces).\n",
        "- Clean and Reformat 'Provincia'.\n",
        "\n",
        "Let's start:"
      ],
      "metadata": {
        "id": "TNlQszIjiB0v"
      }
    },
    {
      "cell_type": "code",
      "source": [
        "# No need for the first column.\n",
        "edadClean=edad.iloc[:,1:]\n",
        "\n",
        "# Rename 'Código'.\n",
        "edadClean.rename(columns={'Código':'ubigeo'},inplace=True)\n",
        "\n",
        "# Clean column names (no spaces).\n",
        "edadClean.columns=edadClean.columns.str.replace('\\s+','_',regex=True)\n",
        "\n",
        "# see\n",
        "edadClean.head()\n",
        "\n"
      ],
      "metadata": {
        "id": "SKyCWAociZzi"
      },
      "execution_count": null,
      "outputs": []
    },
    {
      "cell_type": "markdown",
      "source": [
        "Cleaning and reformating requires that all the 'Provincia' cells have the same pattern:\n"
      ],
      "metadata": {
        "id": "WFikkX9Sj1Kn"
      }
    },
    {
      "cell_type": "code",
      "source": [
        "edadClean.loc[~edadClean.Provincia.str.contains(r',\\s*\\w+:',regex=True),'Provincia']"
      ],
      "metadata": {
        "id": "1JDipA1jkGhI"
      },
      "execution_count": null,
      "outputs": []
    },
    {
      "cell_type": "markdown",
      "source": [
        "Let's give the same format to those:"
      ],
      "metadata": {
        "id": "Jmo7AKG0kLzc"
      }
    },
    {
      "cell_type": "code",
      "source": [
        "newValues=[\"Callao, provincia: Callao\",'Madre de Dios, prov: Tambopata','Madre de Dios, prov: Manu','Madre de Dios, prov: Tahuamanu']\n",
        "\n",
        "edadClean.loc[~edadClean.Provincia.str.contains(r',\\s*\\w+:',regex=True),'Provincia']=newValues\n",
        "\n",
        "# now the TOTAL COLUMN changes:\n",
        "\n",
        "edadClean[['region','Provincia']]=edadClean.Provincia.str.split(',\\s*|:\\s*',expand=True).iloc[:,[0,2]]\n",
        "\n",
        "# see\n",
        "edadClean.head()"
      ],
      "metadata": {
        "id": "Piem8UczkUNB"
      },
      "execution_count": null,
      "outputs": []
    },
    {
      "cell_type": "markdown",
      "source": [
        "Let's move **Region**:"
      ],
      "metadata": {
        "id": "K18Mr3L-KzrQ"
      }
    },
    {
      "cell_type": "code",
      "source": [
        "edadClean.set_index(['region','Provincia','ubigeo'],inplace=True)\n",
        "edadClean.reset_index(drop=False, inplace=True)\n",
        "\n",
        "\n",
        "# see\n",
        "edadClean.head()"
      ],
      "metadata": {
        "id": "7DiI5cgaK4sX"
      },
      "execution_count": null,
      "outputs": []
    },
    {
      "cell_type": "code",
      "source": [
        "# check types\n",
        "edadClean.info()"
      ],
      "metadata": {
        "id": "cVYrGnXWlDeC"
      },
      "execution_count": null,
      "outputs": []
    },
    {
      "cell_type": "markdown",
      "source": [
        "Ready to save:"
      ],
      "metadata": {
        "id": "ecaqoUWqlkkM"
      }
    },
    {
      "cell_type": "code",
      "source": [
        "import os\n",
        "\n",
        "folder = \"data\"\n",
        "\n",
        "# Check whether the specified path exists or not\n",
        "if not os.path.exists(folder):\n",
        "   # Create a new directory because it does not exist\n",
        "   os.makedirs(folder)\n",
        "   edadClean.to_csv(os.path.join('data','edadClean.csv'),index=False)\n",
        "   edadClean.to_parquet(os.path.join('data','edadClean.parquet'),index=False)\n",
        "\n",
        "else:\n",
        "    edadClean.to_csv(os.path.join('data','edadClean.csv'),index=False)\n",
        "    edadClean.to_parquet(os.path.join('data','edadClean.parquet'),index=False)"
      ],
      "metadata": {
        "id": "IKmVELBLljjH"
      },
      "execution_count": null,
      "outputs": []
    }
  ]
}