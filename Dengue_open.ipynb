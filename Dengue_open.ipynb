{
  "nbformat": 4,
  "nbformat_minor": 0,
  "metadata": {
    "colab": {
      "provenance": []
    },
    "kernelspec": {
      "name": "python3",
      "display_name": "Python 3"
    },
    "language_info": {
      "name": "python"
    }
  },
  "cells": [
    {
      "cell_type": "markdown",
      "source": [
        "<center><img src=\"https://github.com/MAGALLANESJoseManuel/OpenDataBigData_at_quality4point0/blob/main/logo.png?raw=true\n",
        "\" width=\"1000\"></center>\n",
        "\n",
        "\n",
        "\n",
        "# The Dengue DATA\n",
        "\n"
      ],
      "metadata": {
        "id": "w2MD4NGTS5tv"
      }
    },
    {
      "cell_type": "markdown",
      "source": [
        "1. From the official site [itself](https://www.datosabiertos.gob.pe/dataset/vigilancia-epidemiol%C3%B3gica-de-dengue)"
      ],
      "metadata": {
        "id": "r3h9nTh4K_WN"
      }
    },
    {
      "cell_type": "code",
      "execution_count": null,
      "metadata": {
        "id": "Zo6Yc3A0t39p"
      },
      "outputs": [],
      "source": [
        "import time\n",
        "\n",
        "link=\"https://www.datosabiertos.gob.pe/sites/default/files/datos_abiertos_vigilancia_dengue.csv\"\n",
        "\n",
        "import pandas as pd\n",
        "\n",
        "# ALSO: time it takes\n",
        "start_time = time.time()\n",
        "dengue=pd.read_csv(link)\n",
        "print(time.time() - start_time, \"seconds\")"
      ]
    },
    {
      "cell_type": "markdown",
      "source": [
        "2. Let's use a free cloud service (original file):\n"
      ],
      "metadata": {
        "id": "zLDy55VjExrE"
      }
    },
    {
      "cell_type": "code",
      "source": [
        "start_time = time.time()\n",
        "\n",
        "GitFolder=\"https://github.com/MagallanesTalks/OpenBigData_atPUCP/raw/refs/heads/main/data/\"\n",
        "myLinkGit=GitFolder+\"datos_abiertos_vigilancia_dengue.csv\"\n",
        "\n",
        "dengue=pd.read_csv(myLinkGit, on_bad_lines=\"warn\")\n",
        "\n",
        "print(time.time() - start_time, \"seconds\")\n"
      ],
      "metadata": {
        "id": "gykqbiaSzBqm"
      },
      "execution_count": null,
      "outputs": []
    },
    {
      "cell_type": "markdown",
      "source": [
        "Using a different engine:"
      ],
      "metadata": {
        "id": "rKl4R_2jXzxc"
      }
    },
    {
      "cell_type": "code",
      "source": [
        "start_time = time.time()\n",
        "\n",
        "myLinkGit=GitFolder+\"datos_abiertos_vigilancia_dengue.csv\"\n",
        "dengueArrow=pd.read_csv(myLinkGit, on_bad_lines=\"warn\", engine='pyarrow')\n",
        "\n",
        "print(time.time() - start_time, \"seconds\")"
      ],
      "metadata": {
        "id": "elXGIJ3RQCZ1"
      },
      "execution_count": null,
      "outputs": []
    },
    {
      "cell_type": "markdown",
      "source": [
        "We can recover what is missing:"
      ],
      "metadata": {
        "id": "_Yzybex_boAO"
      }
    },
    {
      "cell_type": "code",
      "source": [
        "# badLines=[\"PIURA,TALARA,PARIѐAS,ENACE I-II-III,DENGUE SIN SEÑALES DE ALARMA,2009,7,A97.0,31,200701,2007010008,7,A,M;\n",
        "# PIURA,TALARA,PARIѐAS,ENACE I-II-III,DENGUE SIN SEÑALES DE ALARMA,2009,13,A97.0,31,200701,2007010008,13,A,F;\n",
        "# PIURA,TALARA,PARIѐAS,ENACE I-II-III,DENGUE SIN SEÑALES DE ALARMA,2009,9,A97.0,31,200701,2007010008,23,A,F;\n",
        "# PIURA,TALARA,PARIѐAS,ENACE I-II-III,DENGUE SIN SEÑALES DE ALARMA,2013,15,A97.0,31,200701,2007010008,15,A,F;\n",
        "# PIURA,TALARA,PARIѐAS,ENACE I-II-III,DENGUE SIN SEÑALES DE ALARMA,2013,15,A97.0,31,200701,2007010008,18,A,M;\n",
        "# PIURA,TALARA,PARIѐAS,ENACE I-II-III,DENGUE SIN SEÑALES DE ALARMA,2015,24,A97.0,31,200701,2007010008,50,A,M;\n",
        "# PIURA,TALARA,PARIѐAS,ENACE I-II-III,DENGUE SIN SEÑALES DE ALARMA,2013,7,A97.0,31,200701,2007010008,8,A,M;\n",
        "# PIURA,TALARA,PARIѐAS,ENACE I-II-III,DENGUE SIN SEÑALES DE ALARMA,2017,19,A97.0,31,200701,2007010008,28,A,M\"]\n",
        "\n",
        "badLines=[\"PIURA,TALARA,PARIѐAS,ENACE I-II-III,DENGUE SIN SEÑALES DE ALARMA,2009,7,A97.0,31,200701,2007010008,7,A,M;PIURA,TALARA,PARIѐAS,ENACE I-II-III,DENGUE SIN SEÑALES DE ALARMA,2009,13,A97.0,31,200701,2007010008,13,A,F;PIURA,TALARA,PARIѐAS,ENACE I-II-III,DENGUE SIN SEÑALES DE ALARMA,2009,9,A97.0,31,200701,2007010008,23,A,F;PIURA,TALARA,PARIѐAS,ENACE I-II-III,DENGUE SIN SEÑALES DE ALARMA,2013,15,A97.0,31,200701,2007010008,15,A,F;PIURA,TALARA,PARIѐAS,ENACE I-II-III,DENGUE SIN SEÑALES DE ALARMA,2013,15,A97.0,31,200701,2007010008,18,A,M; PIURA,TALARA,PARIѐAS,ENACE I-II-III,DENGUE SIN SEÑALES DE ALARMA,2015,24,A97.0,31,200701,2007010008,50,A,M;PIURA,TALARA,PARIѐAS,ENACE I-II-III,DENGUE SIN SEÑALES DE ALARMA,2013,7,A97.0,31,200701,2007010008,8,A,M;PIURA,TALARA,PARIѐAS,ENACE I-II-III,DENGUE SIN SEÑALES DE ALARMA,2017,19,A97.0,31,200701,2007010008,28,A,M\"]\n",
        "\n",
        "\n",
        "missingLines=pd.DataFrame([cell.split(',') for cell in [ line.split(\";\") for line in badLines][0]],columns=dengue.columns)\n",
        "missingLines"
      ],
      "metadata": {
        "id": "zzwQG_6WQHVN"
      },
      "execution_count": null,
      "outputs": []
    },
    {
      "cell_type": "markdown",
      "source": [
        "Then,"
      ],
      "metadata": {
        "id": "W9x_MsTYbsoG"
      }
    },
    {
      "cell_type": "code",
      "source": [
        "dengue_ok=pd.concat([dengue,missingLines])\n",
        "dengue_ok.info()"
      ],
      "metadata": {
        "id": "W3T3_0f5Tt-L"
      },
      "execution_count": null,
      "outputs": []
    },
    {
      "cell_type": "markdown",
      "source": [
        "Some housecleaning:"
      ],
      "metadata": {
        "id": "0TfHx1hEbveZ"
      }
    },
    {
      "cell_type": "code",
      "source": [
        "# verify the text is full of numbers\n",
        "dengue_ok.loc[:,['ano','semana','edad']].apply(lambda col:col.str.isnumeric().all())"
      ],
      "metadata": {
        "id": "MGldC-G9VVLD"
      },
      "execution_count": null,
      "outputs": []
    },
    {
      "cell_type": "code",
      "source": [
        "# make the change\n",
        "dengue_ok[['ano','semana','edad']]=dengue_ok.loc[:,['ano','semana','edad']].apply(pd.to_numeric)\n",
        "dengue_ok.info()"
      ],
      "metadata": {
        "id": "2frkKtiIVyCJ"
      },
      "execution_count": null,
      "outputs": []
    },
    {
      "cell_type": "markdown",
      "source": [
        "Do we have complete location information:"
      ],
      "metadata": {
        "id": "MYge1Toyb69Y"
      }
    },
    {
      "cell_type": "code",
      "source": [
        "dengue_ok[dengue_ok.provincia.str.contains(r'[^A-Z\\sÑ]',regex=True)]"
      ],
      "metadata": {
        "id": "ziis60T5WFQN"
      },
      "execution_count": null,
      "outputs": []
    },
    {
      "cell_type": "markdown",
      "source": [
        "Then,"
      ],
      "metadata": {
        "id": "Ma9VomGycAdR"
      }
    },
    {
      "cell_type": "code",
      "source": [
        "dengue_ok=dengue_ok[~dengue_ok.provincia.str.contains(r'[^A-Z\\sÑ]',regex=True)]"
      ],
      "metadata": {
        "id": "KDrMPI1hXnIz"
      },
      "execution_count": null,
      "outputs": []
    },
    {
      "cell_type": "markdown",
      "source": [
        "What levels of this?"
      ],
      "metadata": {
        "id": "_q6seKvmcC0D"
      }
    },
    {
      "cell_type": "code",
      "source": [
        "dengue_ok.enfermedad.value_counts()"
      ],
      "metadata": {
        "id": "V7uf23BIXqU_"
      },
      "execution_count": null,
      "outputs": []
    },
    {
      "cell_type": "markdown",
      "source": [
        "What do we have here?"
      ],
      "metadata": {
        "id": "I6MbXjwGcGv6"
      }
    },
    {
      "cell_type": "code",
      "source": [
        "dengue_ok.tipo_edad.value_counts()"
      ],
      "metadata": {
        "id": "wTfPMzPkYrno"
      },
      "execution_count": null,
      "outputs": []
    },
    {
      "cell_type": "markdown",
      "source": [
        "Are YEARS ok?"
      ],
      "metadata": {
        "id": "q1aHKBaIcJpm"
      }
    },
    {
      "cell_type": "code",
      "source": [
        "dengue_ok.ano.value_counts().plot(kind='bar')"
      ],
      "metadata": {
        "id": "3HcdyG-ZX9fb"
      },
      "execution_count": null,
      "outputs": []
    },
    {
      "cell_type": "markdown",
      "source": [
        "What about AGES ?"
      ],
      "metadata": {
        "id": "c8Eggl8mcd7L"
      }
    },
    {
      "cell_type": "code",
      "source": [
        "dengue_ok.edad.describe().apply(lambda x: format(x, 'f'))"
      ],
      "metadata": {
        "id": "FtfkEiEVY3Vt"
      },
      "execution_count": null,
      "outputs": []
    },
    {
      "cell_type": "code",
      "source": [
        "# verifying:\n",
        "dengue_ok[dengue_ok.edad>110]"
      ],
      "metadata": {
        "id": "sqZazYdHZemZ"
      },
      "execution_count": null,
      "outputs": []
    },
    {
      "cell_type": "markdown",
      "source": [
        "Let's make the last change and save:"
      ],
      "metadata": {
        "id": "29ReRiJlcwoR"
      }
    },
    {
      "cell_type": "code",
      "source": [
        "toDelete=['diagnostic',\t'localcod']\n",
        "dengue_ok.drop(columns=toDelete,inplace=True)\n",
        "dengue_ok=dengue_ok[dengue_ok.edad<110]\n",
        "\n",
        "import os\n",
        "\n",
        "folder = \"data\"\n",
        "\n",
        "# Check whether the specified path exists or not\n",
        "if not os.path.exists(folder):\n",
        "   # Create a new directory because it does not exist\n",
        "   os.makedirs(folder)\n",
        "   dengue_ok.to_csv(os.path.join('data','dengue_ok.csv'),index=False)\n",
        "   dengue_ok.to_parquet(os.path.join('data','dengue_ok.parquet'),index=False)\n",
        "\n",
        "else:\n",
        "    dengue_ok.to_csv(os.path.join('data','dengue_ok.csv'),index=False)\n",
        "    dengue_ok.to_parquet(os.path.join('data','dengue_ok.parquet'),index=False)"
      ],
      "metadata": {
        "id": "UehjfOOhZr5R"
      },
      "execution_count": null,
      "outputs": []
    },
    {
      "cell_type": "code",
      "source": [],
      "metadata": {
        "id": "bjZZEL1xbg4s"
      },
      "execution_count": null,
      "outputs": []
    }
  ]
}