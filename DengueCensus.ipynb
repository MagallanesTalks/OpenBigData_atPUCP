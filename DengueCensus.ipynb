{
  "nbformat": 4,
  "nbformat_minor": 0,
  "metadata": {
    "colab": {
      "provenance": []
    },
    "kernelspec": {
      "name": "python3",
      "display_name": "Python 3"
    },
    "language_info": {
      "name": "python"
    }
  },
  "cells": [
    {
      "cell_type": "markdown",
      "source": [
        "<center><img src=\"https://github.com/MAGALLANESJoseManuel/OpenDataBigData_at_quality4point0/blob/main/logo.png?raw=true\n",
        "\" width=\"1000\"></center>\n",
        "\n",
        "\n",
        "\n",
        "# The Dengue and Census: What Province should be a priority?\n",
        "\n"
      ],
      "metadata": {
        "id": "w2MD4NGTS5tv"
      }
    },
    {
      "cell_type": "markdown",
      "source": [
        "## ACCESSING\n",
        "\n",
        "The clean data for dengue:"
      ],
      "metadata": {
        "id": "r3h9nTh4K_WN"
      }
    },
    {
      "cell_type": "code",
      "execution_count": null,
      "metadata": {
        "id": "Zo6Yc3A0t39p"
      },
      "outputs": [],
      "source": [
        "\n",
        "GitFolder=\"https://github.com/MagallanesTalks/OpenBigData_atPUCP/raw/refs/heads/main/data/\"\n",
        "linkDengue=GitFolder + \"dengue_ok.parquet\"\n",
        "\n",
        "import pandas as pd\n",
        "\n",
        "dengue_ok=pd.read_parquet(linkDengue)"
      ]
    },
    {
      "cell_type": "markdown",
      "source": [
        "Let's compute the population of the more vulnerable people to Dengue:"
      ],
      "metadata": {
        "id": "0gKjkV3iIt7m"
      }
    },
    {
      "cell_type": "code",
      "source": [
        "\n",
        "sickInfant=((dengue_ok.edad<=2) & (dengue_ok.tipo_edad=='A')) | \\\n",
        "           ((dengue_ok.edad<=48) & (dengue_ok.tipo_edad=='M'))| \\\n",
        "           ((dengue_ok.tipo_edad=='D'))\n",
        "sickElder=((dengue_ok.edad>=65) & (dengue_ok.tipo_edad=='A'))\n",
        "\n",
        "dengue_ok=dengue_ok.assign(sick_elder=sickElder)\n",
        "dengue_ok=dengue_ok.assign(sick_infant=sickInfant)\n",
        "\n",
        "colsNeeded=['ubigeo','provincia','sick_elder','sick_infant']\n",
        "dengue_ok=dengue_ok.loc[:,colsNeeded]\n",
        "\n",
        "colsForGroup=['ubigeo','provincia']\n",
        "dengue_sick=dengue_ok.groupby(colsForGroup,as_index=False).sum()\n",
        "dengue_sick=dengue_sick.iloc[:-1,:]\n",
        "\n",
        "dengue_sick"
      ],
      "metadata": {
        "id": "XpUMH-m3dZBe"
      },
      "execution_count": null,
      "outputs": []
    },
    {
      "cell_type": "code",
      "source": [
        "dengue_sick.info()"
      ],
      "metadata": {
        "id": "wOyThGBAa74E"
      },
      "execution_count": null,
      "outputs": []
    },
    {
      "cell_type": "code",
      "source": [
        "import altair as alt\n",
        "\n",
        "# Create the scatter plot\n",
        "alt.Chart(dengue_sick).mark_circle().encode(\n",
        "    alt.X('sick_elder:Q'),\n",
        "    alt.Y('sick_infant:Q'),\n",
        "    tooltip=['provincia', 'sick_elder', 'sick_infant']\n",
        ").interactive()\n",
        "\n"
      ],
      "metadata": {
        "id": "j7uAObMhkd-B"
      },
      "execution_count": null,
      "outputs": []
    },
    {
      "cell_type": "code",
      "source": [],
      "metadata": {
        "id": "4Quyq-deCGkx"
      },
      "execution_count": null,
      "outputs": []
    },
    {
      "cell_type": "code",
      "execution_count": null,
      "metadata": {
        "id": "JiYzIa5GMoPX"
      },
      "outputs": [],
      "source": [
        "linkEdad=GitFolder+\"edadClean.parquet\"\n",
        "\n",
        "import pandas as pd\n",
        "\n",
        "\n",
        "edad=pd.read_parquet(linkEdad)"
      ]
    },
    {
      "cell_type": "code",
      "source": [
        "edad.info()"
      ],
      "metadata": {
        "id": "UixpbtZeNS4x"
      },
      "execution_count": null,
      "outputs": []
    },
    {
      "cell_type": "code",
      "source": [
        "edad.columns"
      ],
      "metadata": {
        "id": "UOfknFImNZtR"
      },
      "execution_count": null,
      "outputs": []
    },
    {
      "cell_type": "markdown",
      "source": [
        "Let's create simpler data frame, just with the vulnerable ages:"
      ],
      "metadata": {
        "id": "D8G1egiKLs2u"
      }
    },
    {
      "cell_type": "code",
      "source": [
        "edadCenso=edad.iloc[:,:3]\n",
        "edadCenso['popInfant']=edad.loc[:,'Edad_0':'Edad_2_años'].apply(sum,axis=1)\n",
        "edadCenso['popElder']=edad.loc[:,'Edad_65_años':].apply(sum,axis=1)\n",
        "edadCenso"
      ],
      "metadata": {
        "id": "nK_ydtThPim5"
      },
      "execution_count": null,
      "outputs": []
    },
    {
      "cell_type": "code",
      "source": [
        "edadCenso.info()"
      ],
      "metadata": {
        "id": "coGdv0WLbJXs"
      },
      "execution_count": null,
      "outputs": []
    },
    {
      "cell_type": "markdown",
      "source": [
        "We should use ubigeos to merge both data:"
      ],
      "metadata": {
        "id": "Ig9BLCYOMLP-"
      }
    },
    {
      "cell_type": "code",
      "source": [
        "dengue_sick.ubigeo"
      ],
      "metadata": {
        "id": "XKAzTN6gMPOa"
      },
      "execution_count": null,
      "outputs": []
    },
    {
      "cell_type": "code",
      "source": [
        "edadCenso.ubigeo"
      ],
      "metadata": {
        "id": "AVEs_iomMTxl"
      },
      "execution_count": null,
      "outputs": []
    },
    {
      "cell_type": "markdown",
      "source": [
        "As you see, the ubigeo needs some changes:"
      ],
      "metadata": {
        "id": "WG-W_hdFMhVa"
      }
    },
    {
      "cell_type": "code",
      "source": [
        "dengue_sick['ubigeo']=dengue_sick.ubigeo.astype(str)\n",
        "edadCenso['ubigeo']=edadCenso.ubigeo.astype(str)"
      ],
      "metadata": {
        "id": "CR_AJenPMlz3"
      },
      "execution_count": null,
      "outputs": []
    },
    {
      "cell_type": "code",
      "source": [
        "dengue_sick.info()"
      ],
      "metadata": {
        "id": "jBH0m1tLNY5d"
      },
      "execution_count": null,
      "outputs": []
    },
    {
      "cell_type": "code",
      "source": [
        "edadCenso.info()"
      ],
      "metadata": {
        "id": "mRWR3Lt4Nb8Q"
      },
      "execution_count": null,
      "outputs": []
    },
    {
      "cell_type": "code",
      "source": [
        "dengueEdad=edadCenso.merge(dengue_sick,on='ubigeo')\n",
        "\n",
        "#here you are:\n",
        "dengueEdad"
      ],
      "metadata": {
        "id": "NCmRqwcmgKNV"
      },
      "execution_count": null,
      "outputs": []
    },
    {
      "cell_type": "markdown",
      "source": [
        "Some extra steps:"
      ],
      "metadata": {
        "id": "Us5Kd2GOSnHe"
      }
    },
    {
      "cell_type": "code",
      "source": [
        "#not needed\n",
        "dengueEdad.drop(columns=['provincia'],inplace=True)\n",
        "\n",
        "# computations\n",
        "dengueEdad['infant_share']=100*dengueEdad.sick_infant/dengueEdad.popInfant\n",
        "dengueEdad['elder_share']=100*dengueEdad.sick_elder/dengueEdad.popElder\n",
        "\n",
        "# here\n",
        "dengueEdad"
      ],
      "metadata": {
        "id": "m-hqrgP9SjuB"
      },
      "execution_count": null,
      "outputs": []
    },
    {
      "cell_type": "markdown",
      "source": [
        "Discuss:"
      ],
      "metadata": {
        "id": "zEPGm6PcS08d"
      }
    },
    {
      "cell_type": "code",
      "source": [
        "# Create the scatter plot\n",
        "alt.Chart(dengueEdad).mark_circle().encode(\n",
        "    alt.X('elder_share:Q'),\n",
        "    alt.Y('infant_share:Q'),\n",
        "    tooltip=['Provincia', 'elder_share', 'infant_share']\n",
        ").interactive()"
      ],
      "metadata": {
        "id": "Lj3E4IOAnofh"
      },
      "execution_count": null,
      "outputs": []
    },
    {
      "cell_type": "code",
      "source": [
        "import os\n",
        "\n",
        "folder = \"data\"\n",
        "\n",
        "# Check whether the specified path exists or not\n",
        "if not os.path.exists(folder):\n",
        "   # Create a new directory because it does not exist\n",
        "   os.makedirs(folder)\n",
        "   dengueEdad.to_csv(os.path.join('data','dengueEdad.csv'),index=False)\n",
        "   dengueEdad.to_parquet(os.path.join('data','dengueEdad.parquet'),index=False)\n",
        "\n",
        "else:\n",
        "    dengueEdad.to_csv(os.path.join('data','dengueEdad.csv'),index=False)\n",
        "    dengueEdad.to_parquet(os.path.join('data','dengueEdad.parquet'),index=False)"
      ],
      "metadata": {
        "id": "ETS3Dzjfn5NN"
      },
      "execution_count": 53,
      "outputs": []
    }
  ]
}