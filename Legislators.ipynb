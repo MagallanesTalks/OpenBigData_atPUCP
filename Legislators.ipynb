{
  "cells": [
    {
      "cell_type": "markdown",
      "id": "bc70f0f3-f8fd-4062-bbc5-0892d7eba79c",
      "metadata": {
        "id": "bc70f0f3-f8fd-4062-bbc5-0892d7eba79c"
      },
      "source": [
        "<center><img src=\"https://github.com/MagallanesTalks/OpenBigData_atPUCP/blob/main/logo.png?raw=true\" width=\"1000\"></center>\n",
        "\n",
        "# A COSPONSORSHIP STORY\n",
        "\n",
        "In this example we will take a look to a network that represents cosponsorship, let me show you a net from the period \"July 1995-July 1996\".\n",
        "\n",
        "Let's fetch the data first:"
      ]
    },
    {
      "cell_type": "code",
      "execution_count": null,
      "id": "d25bb792",
      "metadata": {
        "id": "d25bb792"
      },
      "outputs": [],
      "source": [
        "# fetch the file (this will appear in your main folder after running the code)\n",
        "# just do it once!\n",
        "!wget 'https://github.com/MagallanesTalks/OpenBigData_atPUCP/raw/refs/heads/main/data/cospon_9596.gexf'"
      ]
    },
    {
      "cell_type": "markdown",
      "id": "Fu-Ig8KI6Tz9",
      "metadata": {
        "id": "Fu-Ig8KI6Tz9"
      },
      "source": [
        "Now, let's read the file and show the relationships"
      ]
    },
    {
      "cell_type": "code",
      "execution_count": null,
      "id": "X5ZsNSjZ6Sz5",
      "metadata": {
        "id": "X5ZsNSjZ6Sz5"
      },
      "outputs": [],
      "source": [
        "import networkx as nx\n",
        "\n",
        "# read in the data\n",
        "net95_1=nx.read_gexf(\"cospon_9596.gexf\")\n",
        "\n",
        "\n",
        "# show net adjacency as a pandas data frame\n",
        "nx.to_pandas_adjacency(net95_1)"
      ]
    },
    {
      "cell_type": "markdown",
      "id": "4e6a2a35-7b6a-4db8-8835-a3d5092c163d",
      "metadata": {
        "id": "4e6a2a35-7b6a-4db8-8835-a3d5092c163d"
      },
      "source": [
        "The adjacency tells us how many times TWO legislators appear as supporters of a bill proposal. The rows and columns names represent the legislator's code. Zero means they never supported a bill together during the time the information was collected (notice the zeroes in the diagonal). The existence of value greater than zero means there is a link between two legislators, and the value is the weight of that relationship.\n",
        "\n",
        "Besides links (or edges) there are nodes, which represent the legislators. We have some attributes in those nodes:"
      ]
    },
    {
      "cell_type": "code",
      "execution_count": null,
      "id": "8605ddb8-b2db-447a-8460-2dc55ebcb1e8",
      "metadata": {
        "id": "8605ddb8-b2db-447a-8460-2dc55ebcb1e8"
      },
      "outputs": [],
      "source": [
        "import pandas as pd\n",
        "\n",
        "pd.DataFrame.from_dict(net95_1.nodes, orient='index')"
      ]
    },
    {
      "cell_type": "markdown",
      "id": "169fc082-525f-4f50-bd13-55c813cb53be",
      "metadata": {
        "id": "169fc082-525f-4f50-bd13-55c813cb53be"
      },
      "source": [
        "# <div class=\"alert alert-success\" role=\"alert\">Relevant nodes</div>\n",
        "Let's compute some important measures that seek to identify actors whose relationship patterns may make them relevant in the network:"
      ]
    },
    {
      "cell_type": "code",
      "execution_count": null,
      "id": "b5ba8ce7-6997-4ae6-97f3-7009208361e0",
      "metadata": {
        "id": "b5ba8ce7-6997-4ae6-97f3-7009208361e0"
      },
      "outputs": [],
      "source": [
        "# relevant to connect groups\n",
        "nx.set_node_attributes(net95_1, nx.betweenness_centrality(net95_1), \"betweenness\")\n",
        "# relevant to spread information\n",
        "nx.set_node_attributes(net95_1, nx.closeness_centrality(net95_1), \"closeness\")\n",
        "# connected to well connected nodes\n",
        "nx.set_node_attributes(net95_1, nx.eigenvector_centrality(net95_1), \"eigenvector\")"
      ]
    },
    {
      "cell_type": "markdown",
      "id": "20a7f214-c863-4080-b5ca-027e413bf2d4",
      "metadata": {
        "id": "20a7f214-c863-4080-b5ca-027e413bf2d4"
      },
      "source": [
        "You see those values as new columns here:"
      ]
    },
    {
      "cell_type": "code",
      "execution_count": null,
      "id": "a7b839ac-4f26-4ba9-a2b3-26ebf6797e0c",
      "metadata": {
        "id": "a7b839ac-4f26-4ba9-a2b3-26ebf6797e0c"
      },
      "outputs": [],
      "source": [
        "net95_1_NodeData=pd.DataFrame.from_dict(net95_1.nodes, orient='index')\n",
        "net95_1_NodeData"
      ]
    },
    {
      "cell_type": "markdown",
      "id": "2c9e00c9-9e46-4399-a8a6-5bcbbc923986",
      "metadata": {
        "id": "2c9e00c9-9e46-4399-a8a6-5bcbbc923986"
      },
      "source": [
        "We could use a scatter plot:"
      ]
    },
    {
      "cell_type": "code",
      "execution_count": null,
      "id": "3c6bWmP7lWXh",
      "metadata": {
        "id": "3c6bWmP7lWXh"
      },
      "outputs": [],
      "source": [
        "#updating altair in colab\n",
        "# !pip install altair -U"
      ]
    },
    {
      "cell_type": "code",
      "execution_count": null,
      "id": "ca4c027a-5a05-4bcb-bea6-cbdc18ffb722",
      "metadata": {
        "id": "ca4c027a-5a05-4bcb-bea6-cbdc18ffb722"
      },
      "outputs": [],
      "source": [
        "import altair as alt\n",
        "\n",
        "ALT_net=alt.Chart(net95_1_NodeData).properties(width=300,\n",
        "                                               height=300)\n",
        "\n",
        "ENC_net=ALT_net.encode(\n",
        "    alt.X('betweenness:Q'),\n",
        "    alt.Y('closeness:Q'),\n",
        "    alt.Size(\"eigenvector:Q\"),\n",
        "    alt.Color(\"eigenvector:Q\"),\n",
        "    tooltip=['label','party']\n",
        ").interactive()\n",
        "ENC_net.mark_circle()"
      ]
    },
    {
      "cell_type": "markdown",
      "id": "591b3efc-67c0-4f45-a70e-fcfe4144c1aa",
      "metadata": {
        "id": "591b3efc-67c0-4f45-a70e-fcfe4144c1aa"
      },
      "source": [
        "Let me create add another attribute, to show belonging to a the governing party:"
      ]
    },
    {
      "cell_type": "code",
      "execution_count": null,
      "id": "abb1b7cb-0b09-4335-bf28-993d85fbc741",
      "metadata": {
        "id": "abb1b7cb-0b09-4335-bf28-993d85fbc741"
      },
      "outputs": [],
      "source": [
        "isPartyInGov={l:1 if p=='CAMBIO 90 - NUEVA MAYORIA' else 0 for (l,p) in nx.get_node_attributes(net95_1, 'party').items()}\n",
        "nx.set_node_attributes(net95_1, isPartyInGov,'isPartyInGov')\n",
        "net95_1_NodeData=pd.DataFrame.from_dict(net95_1.nodes, orient='index')"
      ]
    },
    {
      "cell_type": "code",
      "execution_count": null,
      "id": "0744178f-5093-4f8d-942f-7199c2392e13",
      "metadata": {
        "id": "0744178f-5093-4f8d-942f-7199c2392e13"
      },
      "outputs": [],
      "source": [
        "ALT_net=alt.Chart(net95_1_NodeData).properties(width=300,\n",
        "                                               height=300)\n",
        "\n",
        "ENC_net=ALT_net.encode(\n",
        "    alt.X('betweenness'),\n",
        "    alt.Y('closeness'),\n",
        "    alt.Size(\"eigenvector:Q\"),\n",
        "    alt.Color('isPartyInGov:N'),\n",
        "    tooltip=['label','party']\n",
        ").interactive()\n",
        "\n",
        "ENC_net.mark_circle()"
      ]
    },
    {
      "cell_type": "markdown",
      "id": "293adbea-6792-4994-b5f7-a10b607e9150",
      "metadata": {
        "id": "293adbea-6792-4994-b5f7-a10b607e9150"
      },
      "source": [
        "Networks are complex to visualize, then some combination of plots may help. Let me introduce **brushing**:"
      ]
    },
    {
      "cell_type": "markdown",
      "id": "cc17bd3d-6db9-46eb-b0f4-ea5fca2f8a87",
      "metadata": {
        "id": "cc17bd3d-6db9-46eb-b0f4-ea5fca2f8a87"
      },
      "source": [
        "# <div class=\"alert alert-success\" role=\"alert\">Network as a whole</div>\n",
        "\n",
        "The default network viz is not very promising in most cases:\n"
      ]
    },
    {
      "cell_type": "code",
      "execution_count": null,
      "id": "cb0eddd3-78f0-465d-8edf-dc76a8c7e74f",
      "metadata": {
        "id": "cb0eddd3-78f0-465d-8edf-dc76a8c7e74f"
      },
      "outputs": [],
      "source": [
        "nx.draw(net95_1)"
      ]
    },
    {
      "cell_type": "markdown",
      "id": "3e4d9cb6-b49e-4505-9119-7618a7f53032",
      "metadata": {
        "id": "3e4d9cb6-b49e-4505-9119-7618a7f53032"
      },
      "source": [
        "## <div class=\"alert alert-danger\" role=\"alert\">Looking for Communities</div>\n",
        "\n",
        "We can not go very far with the previous plot; the next step is to find out if actually there are communities emerging from the relationships. Let's compute some basic net stats to see if we can suspect the existence of communities."
      ]
    },
    {
      "cell_type": "code",
      "execution_count": null,
      "id": "6cced7dd-5c39-471f-ae70-76c614523ef3",
      "metadata": {
        "id": "6cced7dd-5c39-471f-ae70-76c614523ef3"
      },
      "outputs": [],
      "source": [
        "# (average) probability that two of your connections are also connected.\n",
        "nx.transitivity(net95_1)"
      ]
    },
    {
      "cell_type": "code",
      "execution_count": null,
      "id": "4c11db27-22cf-4432-8686-61155d4b0c5e",
      "metadata": {
        "id": "4c11db27-22cf-4432-8686-61155d4b0c5e"
      },
      "outputs": [],
      "source": [
        "# (average) probability that all your connections are connected\n",
        "nx.average_clustering(net95_1,count_zeros=False)"
      ]
    },
    {
      "cell_type": "code",
      "execution_count": null,
      "id": "9790e2dd-a8c2-4403-9a17-7a2a91456bc3",
      "metadata": {
        "id": "9790e2dd-a8c2-4403-9a17-7a2a91456bc3"
      },
      "outputs": [],
      "source": [
        "# the amout of maximal cliques\n",
        "len(list(nx.find_cliques(net95_1)))"
      ]
    },
    {
      "cell_type": "code",
      "execution_count": null,
      "id": "ee94b028-5cae-4bfb-9006-4b69ee3c561e",
      "metadata": {
        "id": "ee94b028-5cae-4bfb-9006-4b69ee3c561e"
      },
      "outputs": [],
      "source": [
        "# The size of the maximal clique\n",
        "maxsize_clique=max(len(c) for c in nx.find_cliques_recursive(net95_1))\n",
        "maxsize_clique"
      ]
    },
    {
      "cell_type": "markdown",
      "id": "e02ec8d1-b6db-40c2-821a-dab4f9f36fa0",
      "metadata": {
        "id": "e02ec8d1-b6db-40c2-821a-dab4f9f36fa0"
      },
      "source": [
        "With this information, we can suspect nodes are organised into communities.\n",
        "\n",
        "There are several algorithms for comunities detection. Let's use the [Louvain algorithm](https://arxiv.org/abs/0803.0476):"
      ]
    },
    {
      "cell_type": "code",
      "execution_count": null,
      "id": "e82c2b15-7f71-46cb-8d01-81d201cb2c9e",
      "metadata": {
        "id": "e82c2b15-7f71-46cb-8d01-81d201cb2c9e"
      },
      "outputs": [],
      "source": [
        "# computing\n",
        "legisLouvain=nx.community.louvain_communities(net95_1, seed=123)\n",
        "\n",
        "# creating attribute\n",
        "legisLouvain_attr={z:x for x,y  in enumerate(legisLouvain) for z in y }\n",
        "\n",
        "# an attribute to the node\n",
        "nx.set_node_attributes(net95_1, legisLouvain_attr,'louvain')\n",
        "\n",
        "# how many?\n",
        "print('comunities found:',len(legisLouvain))"
      ]
    },
    {
      "cell_type": "markdown",
      "id": "138d0b16-f2db-4709-9780-d9326163e95d",
      "metadata": {
        "id": "138d0b16-f2db-4709-9780-d9326163e95d"
      },
      "source": [
        "The community label has been assigned to the nodes, let's recover the attributes as a data frame again:"
      ]
    },
    {
      "cell_type": "code",
      "execution_count": null,
      "id": "15599868-d6fd-44d1-b8ab-cbc197f7a9df",
      "metadata": {
        "id": "15599868-d6fd-44d1-b8ab-cbc197f7a9df"
      },
      "outputs": [],
      "source": [
        "net95_1_NodeData=pd.DataFrame.from_dict(net95_1.nodes, orient='index')\n",
        "net95_1_NodeData.iloc[:,-5:]"
      ]
    },
    {
      "cell_type": "markdown",
      "id": "8eeb1ec5-2f15-4a9a-b032-7399258ed43d",
      "metadata": {
        "id": "8eeb1ec5-2f15-4a9a-b032-7399258ed43d"
      },
      "source": [
        "Let's create a viz:"
      ]
    },
    {
      "cell_type": "code",
      "execution_count": null,
      "id": "4ee0f528-7941-4404-be28-1e9013fa3683",
      "metadata": {
        "id": "4ee0f528-7941-4404-be28-1e9013fa3683"
      },
      "outputs": [],
      "source": [
        "# position of nodes\n",
        "alt.data_transformers.enable('default', max_rows=10000)\n",
        "nodePos=nx.spring_layout(net95_1,k=0.5)\n",
        "\n",
        "# drawing\n",
        "chart = nxa.draw_networkx(G=net95_1,\n",
        "                          pos=nodePos,\n",
        "                          edge_color='grey',\n",
        "                          width='weight',\n",
        "                          alpha=0.6,\n",
        "                          node_size='isPartyInGov:N',\n",
        "                          node_color='louvain:N',\n",
        "                          cmap='set1',\n",
        "                          linewidths=0,\n",
        "                          node_tooltip=['label','party'])\n",
        "chart.properties(\n",
        "    width=600,\n",
        "    height=600,\n",
        ").interactive()"
      ]
    },
    {
      "cell_type": "markdown",
      "id": "f4ce9fea-a171-4035-9779-4f62c74947db",
      "metadata": {
        "id": "f4ce9fea-a171-4035-9779-4f62c74947db"
      },
      "source": [
        "The library **netgraph** moves the nodes if you have communities:"
      ]
    },
    {
      "cell_type": "code",
      "execution_count": null,
      "id": "HW6dtf4TmdrZ",
      "metadata": {
        "id": "HW6dtf4TmdrZ"
      },
      "outputs": [],
      "source": [
        "# !pip install netgraph"
      ]
    },
    {
      "cell_type": "code",
      "execution_count": null,
      "id": "71e5828f-9dce-43a9-a7a6-b333481091a5",
      "metadata": {
        "id": "71e5828f-9dce-43a9-a7a6-b333481091a5"
      },
      "outputs": [],
      "source": [
        "# custom colors\n",
        "community_to_color = {0 : 'blue', 1 : 'orange',2 : 'green',3 : 'white', 4:'black', 5:'magenta'}\n",
        "# color dict\n",
        "custom_node_color = {node: community_to_color[community_id] for node, community_id in legisLouvain_attr.items()}\n",
        "\n",
        "from netgraph import Graph\n",
        "Graph(net95_1,\n",
        "      node_layout='community',edge_color='lightgrey',edge_alpha=0.3,edge_width=0.5,\n",
        "      node_layout_kwargs=dict(node_to_community=legisLouvain_attr),\n",
        "      node_color=custom_node_color)"
      ]
    },
    {
      "cell_type": "markdown",
      "id": "1375ade4-433a-4160-b865-62179b6dc17e",
      "metadata": {
        "id": "1375ade4-433a-4160-b865-62179b6dc17e"
      },
      "source": [
        "You can try **hives** if we are intested in displaying interactions:"
      ]
    },
    {
      "cell_type": "code",
      "execution_count": null,
      "id": "omdxo9pom0hI",
      "metadata": {
        "id": "omdxo9pom0hI"
      },
      "outputs": [],
      "source": [
        "# !pip install hiveplotlib"
      ]
    },
    {
      "cell_type": "code",
      "execution_count": null,
      "id": "35b9572d-1691-4de9-963c-d0af16d0794d",
      "metadata": {
        "id": "35b9572d-1691-4de9-963c-d0af16d0794d"
      },
      "outputs": [],
      "source": [
        "from hiveplotlib import hive_plot_n_axes\n",
        "from hiveplotlib.converters import networkx_to_nodes_edges\n",
        "from hiveplotlib.node import split_nodes_on_variable\n",
        "from hiveplotlib.viz import hive_plot_viz\n",
        "\n",
        "# setup\n",
        "## convert from networkx\n",
        "nodes, edges = networkx_to_nodes_edges(net95_1)\n",
        "## organize nodes into communities\n",
        "communities_dict = split_nodes_on_variable(nodes, variable_name=\"louvain\")\n",
        "nodes_by_community_toAxes = list(communities_dict.values())\n",
        "# amount of communities\n",
        "amountOf_communities=len(nodes_by_community_toAxes)"
      ]
    },
    {
      "cell_type": "markdown",
      "id": "eeeffdbe-c9f3-4446-8d48-74176a9e7735",
      "metadata": {
        "id": "eeeffdbe-c9f3-4446-8d48-74176a9e7735"
      },
      "source": [
        "Time to plot:"
      ]
    },
    {
      "cell_type": "code",
      "execution_count": null,
      "id": "bfa83b63-124b-4423-b039-caf127fdb09a",
      "metadata": {
        "id": "bfa83b63-124b-4423-b039-caf127fdb09a"
      },
      "outputs": [],
      "source": [
        "hp = hive_plot_n_axes(node_list=nodes,\n",
        "                      edges=edges,\n",
        "                      axes_assignments=nodes_by_community_toAxes,\n",
        "                      sorting_variables=[\"eigenvector\"] * amountOf_communities\n",
        ")\n",
        "fig, ax = hive_plot_viz(hp)\n",
        "ax.set_title(\"Interaction among communities\", y=1.05, size=20)\n",
        "plt.show()"
      ]
    },
    {
      "cell_type": "markdown",
      "id": "49880867-a685-4d71-832d-d0711bf1ccf5",
      "metadata": {
        "id": "49880867-a685-4d71-832d-d0711bf1ccf5"
      },
      "source": [
        "We could add some color:"
      ]
    },
    {
      "cell_type": "code",
      "execution_count": null,
      "id": "2670dd6b-f75f-4fc6-bfdb-3e931f8989ec",
      "metadata": {
        "id": "2670dd6b-f75f-4fc6-bfdb-3e931f8989ec"
      },
      "outputs": [],
      "source": [
        "fig, ax = hive_plot_viz(\n",
        "    hp,\n",
        "    node_kwargs={\"color\": \"red\", \"s\": 10},\n",
        "    axes_kwargs={\"color\": \"yellow\"},\n",
        "    color=\"grey\",\n",
        "    ls=\"dotted\"\n",
        ")\n",
        "ax.set_title(\"Interaction among communities\", y=1.05, size=20)\n",
        "plt.show()"
      ]
    },
    {
      "cell_type": "markdown",
      "id": "83fe22f3-ed0a-448f-a9cb-92b5da10c897",
      "metadata": {
        "id": "83fe22f3-ed0a-448f-a9cb-92b5da10c897"
      },
      "source": [
        "This library allows you to reveal within communities interaction:"
      ]
    },
    {
      "cell_type": "code",
      "execution_count": null,
      "id": "78d243de-ceb8-487c-81d3-96749c36e13c",
      "metadata": {
        "id": "78d243de-ceb8-487c-81d3-96749c36e13c"
      },
      "outputs": [],
      "source": [
        "hp = hive_plot_n_axes(node_list=nodes,\n",
        "                      edges=edges,\n",
        "                      axes_assignments=nodes_by_community_toAxes,\n",
        "                      sorting_variables=[\"eigenvector\"] * amountOf_communities,\n",
        "                      repeat_axes=[True]*amountOf_communities,\n",
        "                      all_edge_kwargs={\"color\": \"darkgrey\"},\n",
        "                      repeat_edge_kwargs={\"color\": \"magenta\"})\n",
        "fig, ax = hive_plot_viz(hp)\n",
        "ax.set_title(\"Interaction between and within communities\", y=1.05, size=20)\n",
        "plt.show()"
      ]
    },
    {
      "cell_type": "markdown",
      "id": "0c34e34c-2d0b-4cfd-b98f-0bdab65d6b06",
      "metadata": {
        "id": "0c34e34c-2d0b-4cfd-b98f-0bdab65d6b06"
      },
      "source": [
        "Finally, let's use heatmaps:"
      ]
    },
    {
      "cell_type": "code",
      "execution_count": null,
      "id": "fdfc0d2e-c553-4fc1-b1ed-fdbb6199aaa9",
      "metadata": {
        "id": "fdfc0d2e-c553-4fc1-b1ed-fdbb6199aaa9"
      },
      "outputs": [],
      "source": [
        "\n",
        "nodelist = list(net95_1.nodes)\n",
        "A = nx.to_numpy_array(net95_1, nodelist=nodelist)\n",
        "A"
      ]
    },
    {
      "cell_type": "markdown",
      "id": "1d30a905-c60f-4130-b58e-d42a4aff2ef6",
      "metadata": {
        "id": "1d30a905-c60f-4130-b58e-d42a4aff2ef6"
      },
      "source": [
        "Let's use **graspologic**. Notice it requires a particular version of scipy."
      ]
    },
    {
      "cell_type": "code",
      "execution_count": null,
      "id": "2sE-2bUtnUSl",
      "metadata": {
        "id": "2sE-2bUtnUSl"
      },
      "outputs": [],
      "source": [
        "# !pip install scipy==1.10.1"
      ]
    },
    {
      "cell_type": "code",
      "execution_count": null,
      "id": "DOoTC5Xtnb7Q",
      "metadata": {
        "id": "DOoTC5Xtnb7Q"
      },
      "outputs": [],
      "source": [
        "# !pip install graspologic"
      ]
    },
    {
      "cell_type": "markdown",
      "id": "J_4tVhgA8Jaz",
      "metadata": {
        "id": "J_4tVhgA8Jaz"
      },
      "source": [
        "**I recommend we restart the session after the last installations.**"
      ]
    },
    {
      "cell_type": "code",
      "execution_count": null,
      "id": "7b3f6c45-63aa-47c8-8dbd-81c33f17fdce",
      "metadata": {
        "id": "7b3f6c45-63aa-47c8-8dbd-81c33f17fdce"
      },
      "outputs": [],
      "source": [
        "from graspologic.plot import heatmap\n",
        "\n",
        "heatmap(A, cbar=True)"
      ]
    },
    {
      "cell_type": "markdown",
      "id": "fdb26afb-7568-47ef-b039-a782bd80c7fc",
      "metadata": {
        "id": "fdb26afb-7568-47ef-b039-a782bd80c7fc"
      },
      "source": [
        "We can not say very much from that plot. But, let me recover the party of the legislators:"
      ]
    },
    {
      "cell_type": "code",
      "execution_count": null,
      "id": "65c487e0-65c9-4a20-9772-a097882f6c90",
      "metadata": {
        "id": "65c487e0-65c9-4a20-9772-a097882f6c90"
      },
      "outputs": [],
      "source": [
        "isPartyInGov_Values=[val for k,val in nx.get_node_attributes(net95_1, 'party').items()]\n",
        "isPartyInGov_Values"
      ]
    },
    {
      "cell_type": "markdown",
      "id": "dcf5c595-0576-4947-9616-7c7c3b62c814",
      "metadata": {
        "id": "dcf5c595-0576-4947-9616-7c7c3b62c814"
      },
      "source": [
        "Then, this nice heatplot appears:"
      ]
    },
    {
      "cell_type": "code",
      "execution_count": null,
      "id": "c7452725-115f-42b1-a0f9-a7ae78e09358",
      "metadata": {
        "id": "c7452725-115f-42b1-a0f9-a7ae78e09358"
      },
      "outputs": [],
      "source": [
        "heatmap(A, inner_hier_labels=isPartyInGov_Values, sort_nodes=True, cbar=False,hier_label_fontsize=4,transform='simple-all')"
      ]
    },
    {
      "cell_type": "markdown",
      "id": "0aea0020-1c02-4e29-817c-80dc76d5a378",
      "metadata": {
        "id": "0aea0020-1c02-4e29-817c-80dc76d5a378"
      },
      "source": [
        "Finally, we could save the net with all the attributes added:"
      ]
    },
    {
      "cell_type": "code",
      "execution_count": null,
      "id": "704895b3-918e-470e-904f-911a18797742",
      "metadata": {
        "id": "704895b3-918e-470e-904f-911a18797742"
      },
      "outputs": [],
      "source": [
        "# nx.write_graphml(net95_1,'net95_1.graphml')"
      ]
    }
  ],
  "metadata": {
    "colab": {
      "provenance": []
    },
    "kernelspec": {
      "display_name": "Python 3 (ipykernel)",
      "language": "python",
      "name": "python3"
    },
    "language_info": {
      "codemirror_mode": {
        "name": "ipython",
        "version": 3
      },
      "file_extension": ".py",
      "mimetype": "text/x-python",
      "name": "python",
      "nbconvert_exporter": "python",
      "pygments_lexer": "ipython3",
      "version": "3.11.9"
    }
  },
  "nbformat": 4,
  "nbformat_minor": 5
}