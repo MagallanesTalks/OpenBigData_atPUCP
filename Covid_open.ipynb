{
  "nbformat": 4,
  "nbformat_minor": 0,
  "metadata": {
    "colab": {
      "provenance": []
    },
    "kernelspec": {
      "name": "python3",
      "display_name": "Python 3"
    },
    "language_info": {
      "name": "python"
    }
  },
  "cells": [
    {
      "cell_type": "markdown",
      "source": [
        "<center><img src=\"https://github.com/MAGALLANESJoseManuel/OpenDataBigData_at_quality4point0/blob/main/logo.png?raw=true\n",
        "\" width=\"1000\"></center>\n",
        "\n",
        "\n",
        "\n",
        "# The COVID DATA\n",
        "\n"
      ],
      "metadata": {
        "id": "w2MD4NGTS5tv"
      }
    },
    {
      "cell_type": "markdown",
      "source": [
        "## ACCESSING COVID DEATHS\n",
        "\n",
        "The official [site](https://www.datosabiertos.gob.pe/dataset/fallecidos-por-covid-19-ministerio-de-salud-minsa) does not offer a link. The file was save in AWS:"
      ],
      "metadata": {
        "id": "r3h9nTh4K_WN"
      }
    },
    {
      "cell_type": "code",
      "execution_count": null,
      "metadata": {
        "id": "Zo6Yc3A0t39p"
      },
      "outputs": [],
      "source": [
        "import time\n",
        "\n",
        "linkFallecidos=\"https://short-talks.s3.sa-east-1.amazonaws.com/fallecidos_covid.csv\"\n",
        "\n",
        "\n",
        "import pandas as pd\n",
        "\n",
        "# ALSO: time it takes\n",
        "start_time = time.time()\n",
        "covid_death=pd.read_csv(linkFallecidos)\n",
        "print(time.time() - start_time, \"seconds\")"
      ]
    },
    {
      "cell_type": "code",
      "source": [
        "# check data types\n",
        "covid_death.info()"
      ],
      "metadata": {
        "id": "YAcVXuGZrb99"
      },
      "execution_count": null,
      "outputs": []
    },
    {
      "cell_type": "markdown",
      "source": [
        "As you see, the separator is a semicolon, then:"
      ],
      "metadata": {
        "id": "yVQrWuY4w2AW"
      }
    },
    {
      "cell_type": "code",
      "source": [
        "covid_death=pd.read_csv(linkFallecidos,sep=';')\n",
        "covid_death.info()"
      ],
      "metadata": {
        "id": "wFsfHuVqrniq"
      },
      "execution_count": null,
      "outputs": []
    },
    {
      "cell_type": "code",
      "source": [
        "# see it:\n",
        "covid_death.head()"
      ],
      "metadata": {
        "id": "OMjs1FQSrtdU"
      },
      "execution_count": null,
      "outputs": []
    },
    {
      "cell_type": "markdown",
      "source": [
        "Let's keep complete data only:"
      ],
      "metadata": {
        "id": "IZC_bJsd4QDn"
      }
    },
    {
      "cell_type": "code",
      "source": [
        "covid_death[covid_death.isnull().any(axis=1)]"
      ],
      "metadata": {
        "id": "ZSP27_9W4S_Y"
      },
      "execution_count": null,
      "outputs": []
    },
    {
      "cell_type": "code",
      "source": [
        "# Then\n",
        "covid_death=covid_death[~covid_death.isnull().any(axis=1)]"
      ],
      "metadata": {
        "id": "5D70k3aW4jiq"
      },
      "execution_count": null,
      "outputs": []
    },
    {
      "cell_type": "markdown",
      "source": [
        "Verify messiness:"
      ],
      "metadata": {
        "id": "mTK0rJhryNxP"
      }
    },
    {
      "cell_type": "code",
      "source": [
        "covid_death[covid_death.PROVINCIA.str.contains(r'[^A-Z\\sÑ]',regex=True,na=False)]"
      ],
      "metadata": {
        "id": "ziis60T5WFQN"
      },
      "execution_count": null,
      "outputs": []
    },
    {
      "cell_type": "markdown",
      "source": [
        "Get age stats:"
      ],
      "metadata": {
        "id": "R6RBlDKV4uHA"
      }
    },
    {
      "cell_type": "code",
      "source": [
        "covid_death.EDAD_DECLARADA.describe(include='all')"
      ],
      "metadata": {
        "id": "V7uf23BIXqU_"
      },
      "execution_count": null,
      "outputs": []
    },
    {
      "cell_type": "code",
      "source": [
        "covid_death.SEXO.value_counts()"
      ],
      "metadata": {
        "id": "Rg-IdD7GzZb9"
      },
      "execution_count": null,
      "outputs": []
    },
    {
      "cell_type": "code",
      "source": [
        "# sorted(covid_death.PROVINCIA.unique())"
      ],
      "metadata": {
        "id": "YKuBrM5e72LA"
      },
      "execution_count": null,
      "outputs": []
    },
    {
      "cell_type": "code",
      "source": [
        "covid_death.CLASIFICACION_DEF.value_counts()"
      ],
      "metadata": {
        "id": "wTfPMzPkYrno"
      },
      "execution_count": null,
      "outputs": []
    },
    {
      "cell_type": "markdown",
      "source": [
        "The only obvious formatting is dates:"
      ],
      "metadata": {
        "id": "fSs8wDEU40So"
      }
    },
    {
      "cell_type": "code",
      "source": [
        "dateColumnsDeath=['FECHA_CORTE','FECHA_FALLECIMIENTO']\n",
        "covid_death.loc[:,dateColumnsDeath].apply(pd.to_datetime)"
      ],
      "metadata": {
        "id": "ta1qlr3m13rM"
      },
      "execution_count": null,
      "outputs": []
    },
    {
      "cell_type": "code",
      "source": [
        "# this is the right way:\n",
        "covid_death.loc[:,dateColumnsDeath].apply(lambda col:pd.to_datetime(col,format='%Y%m%d'))"
      ],
      "metadata": {
        "id": "3HcdyG-ZX9fb"
      },
      "execution_count": null,
      "outputs": []
    },
    {
      "cell_type": "code",
      "source": [
        "#then\n",
        "covid_death[dateColumnsDeath]=covid_death.loc[:,dateColumnsDeath].apply(lambda col:pd.to_datetime(col,format='%Y%m%d'))\n",
        "covid_death.info()"
      ],
      "metadata": {
        "id": "FtfkEiEVY3Vt"
      },
      "execution_count": null,
      "outputs": []
    },
    {
      "cell_type": "markdown",
      "source": [
        "The last two columns need not be _float_:"
      ],
      "metadata": {
        "id": "vNeeES_H4-EO"
      }
    },
    {
      "cell_type": "code",
      "source": [
        "IntColumnsDeath=['UBIGEO','UUID']\n",
        "covid_death[IntColumnsDeath]=covid_death.loc[:,IntColumnsDeath].astype(int)\n",
        "covid_death.info()"
      ],
      "metadata": {
        "id": "hIt7Tmni2kru"
      },
      "execution_count": null,
      "outputs": []
    },
    {
      "cell_type": "code",
      "source": [
        "import os\n",
        "\n",
        "folder = \"data\"\n",
        "\n",
        "# Check whether the specified path exists or not\n",
        "if not os.path.exists(folder):\n",
        "   # Create a new directory because it does not exist\n",
        "   os.makedirs(folder)\n",
        "   covid_death.to_csv(os.path.join('data','covid_death.csv'),index=False)\n",
        "   covid_death.to_parquet(os.path.join('data','covid_death.parquet'),index=False)\n",
        "\n",
        "else:\n",
        "    covid_death.to_csv(os.path.join('data','covid_death.csv'),index=False)\n",
        "    covid_death.to_parquet(os.path.join('data','covid_death.parquet'),index=False)\n",
        ""
      ],
      "metadata": {
        "id": "WFo_dVe85N9x"
      },
      "execution_count": null,
      "outputs": []
    },
    {
      "cell_type": "markdown",
      "source": [
        "## ACCESSING COVID CASES"
      ],
      "metadata": {
        "id": "MZVDrgiB5x1E"
      }
    },
    {
      "cell_type": "markdown",
      "source": [
        "Let's open the covid cases data (which is much larger):"
      ],
      "metadata": {
        "id": "Idh0_3pHyB7F"
      }
    },
    {
      "cell_type": "code",
      "source": [
        "linkCases=\"https://short-talks.s3.sa-east-1.amazonaws.com/positivos_covid.csv\"\n",
        "start_time = time.time()\n",
        "covid_cases=pd.read_csv(linkCases,sep=';')\n",
        "print(time.time() - start_time, \"seconds\")\n",
        "# check\n",
        "covid_cases.info()"
      ],
      "metadata": {
        "id": "ItCyq6H-sq0E"
      },
      "execution_count": null,
      "outputs": []
    },
    {
      "cell_type": "markdown",
      "source": [
        "The large file is not showing counts of missing values, then:"
      ],
      "metadata": {
        "id": "TrY8VXpS-dHm"
      }
    },
    {
      "cell_type": "code",
      "source": [
        "covid_cases.isnull().sum()"
      ],
      "metadata": {
        "id": "EmXO1X1_57pO"
      },
      "execution_count": null,
      "outputs": []
    },
    {
      "cell_type": "markdown",
      "source": [
        "You will not be able to use this at the person level."
      ],
      "metadata": {
        "id": "BsFtHQE3-kmK"
      }
    },
    {
      "cell_type": "code",
      "source": [
        "covid_cases.drop(columns=['id_persona'],inplace=True)"
      ],
      "metadata": {
        "id": "R7IehjCO5-_d"
      },
      "execution_count": null,
      "outputs": []
    },
    {
      "cell_type": "markdown",
      "source": [
        "Let's see about UBIGEO:"
      ],
      "metadata": {
        "id": "jdjDA20Y_OeB"
      }
    },
    {
      "cell_type": "code",
      "source": [
        "covid_cases[covid_cases.UBIGEO.isnull()]"
      ],
      "metadata": {
        "id": "wGX2GPtj_SUq"
      },
      "execution_count": null,
      "outputs": []
    },
    {
      "cell_type": "markdown",
      "source": [
        "If we plan to use provinces, we drop this:"
      ],
      "metadata": {
        "id": "gd76QVtU_XZL"
      }
    },
    {
      "cell_type": "code",
      "source": [
        "covid_cases[covid_cases.PROVINCIA=='EN INVESTIGACIÓN']"
      ],
      "metadata": {
        "id": "1huA7gSH6ncg"
      },
      "execution_count": null,
      "outputs": []
    },
    {
      "cell_type": "code",
      "source": [
        "# Then\n",
        "covid_cases.replace('EN INVESTIGACIÓN', None, inplace=True)\n",
        "covid_cases_Prov=covid_cases[~covid_cases.PROVINCIA.isnull()]"
      ],
      "metadata": {
        "id": "xlMakgE-8cV2"
      },
      "execution_count": null,
      "outputs": []
    },
    {
      "cell_type": "code",
      "source": [
        "# verify\n",
        "covid_cases_Prov.isnull().sum()"
      ],
      "metadata": {
        "id": "ju_ehPUv8xWj"
      },
      "execution_count": null,
      "outputs": []
    },
    {
      "cell_type": "markdown",
      "source": [
        "Let's check the dates:"
      ],
      "metadata": {
        "id": "l2Ee0wH5_2wL"
      }
    },
    {
      "cell_type": "code",
      "source": [
        "dateColumnsCases=['FECHA_CORTE','FECHA_RESULTADO']\n",
        "covid_cases_Prov[dateColumnsCases]=covid_cases_Prov.loc[:,dateColumnsCases].apply(lambda col:pd.to_datetime(col,format='%Y%m%d'))\n",
        "covid_cases_Prov.info()"
      ],
      "metadata": {
        "id": "HwAFX5S4AV1_"
      },
      "execution_count": null,
      "outputs": []
    },
    {
      "cell_type": "code",
      "source": [
        "# something simple\n",
        "\n",
        "IntColumnsCases=['EDAD','UBIGEO']\n",
        "covid_cases_Prov[IntColumnsCases]=covid_cases_Prov.loc[:,IntColumnsCases].astype(int)\n",
        "covid_cases_Prov.info()"
      ],
      "metadata": {
        "id": "BeWL_hOZFAY6"
      },
      "execution_count": null,
      "outputs": []
    },
    {
      "cell_type": "markdown",
      "source": [
        "Time to save:"
      ],
      "metadata": {
        "id": "FbCeLObaFuQW"
      }
    },
    {
      "cell_type": "code",
      "source": [
        "import os\n",
        "\n",
        "folder = \"data\"\n",
        "\n",
        "# Check whether the specified path exists or not\n",
        "if not os.path.exists(folder):\n",
        "   # Create a new directory because it does not exist\n",
        "   os.makedirs(folder)\n",
        "   covid_cases_Prov.to_csv(os.path.join('data','covid_cases_Prov.csv'),index=False)\n",
        "   covid_cases_Prov.to_parquet(os.path.join('data','covid_cases_Prov.parquet'),index=False)\n",
        "\n",
        "else:\n",
        "    covid_cases_Prov.to_csv(os.path.join('data','covid_cases_Prov.csv'),index=False)\n",
        "    covid_cases_Prov.to_parquet(os.path.join('data','covid_cases_Prov.parquet'),index=False)"
      ],
      "metadata": {
        "id": "irjvXtg3FlcW"
      },
      "execution_count": null,
      "outputs": []
    }
  ]
}