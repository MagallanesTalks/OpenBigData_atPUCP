{
  "cells": [
    {
      "cell_type": "markdown",
      "id": "c4874e83-9cc9-4b4d-ba04-77673711b191",
      "metadata": {
        "id": "c4874e83-9cc9-4b4d-ba04-77673711b191"
      },
      "source": [
        "\n",
        "\n",
        "<center><img src=\"https://github.com/MagallanesTalks/OpenBigData_atPUCP/blob/main/logo.png?raw=true\" width=\"1000\"></center>\n",
        "\n",
        "\n",
        "# **THE 2021 Presidential Elections in Perú**\n",
        "\n",
        "\n",
        "Results from 2021 presidential election, first round, available at [INFOGOB](https://infogob.jne.gob.pe/BaseDatos). Let's keep the results at the _PROVINCIA_ level."
      ]
    },
    {
      "cell_type": "code",
      "execution_count": null,
      "id": "KOUqsSNqfaw5",
      "metadata": {
        "id": "KOUqsSNqfaw5"
      },
      "outputs": [],
      "source": [
        "# !pip install unidecode"
      ]
    },
    {
      "cell_type": "code",
      "execution_count": null,
      "id": "d25bb792",
      "metadata": {
        "id": "d25bb792"
      },
      "outputs": [],
      "source": [
        "import pandas as pd # you may also need openpyxl\n",
        "from unidecode import unidecode # helps get rid of some troublesome spanish elements\n",
        "\n",
        "dataLink=\"https://github.com/MagallanesTalks/OpenBigData_atPUCP/raw/refs/heads/main/data/EG2021_V1.1_Resultados_Presidencial.xlsx\"\n",
        "\n",
        "vuelta1=pd.read_excel(dataLink,sheet_name='Nivel_Provincial')\n",
        "\n",
        "vuelta1.columns=[unidecode(col) for col in vuelta1.columns.str.replace('\\s','',regex=True)]\n",
        "\n",
        "# checking the way the data was recognised by pandas\n",
        "vuelta1.info()"
      ]
    },
    {
      "cell_type": "code",
      "execution_count": null,
      "id": "bf863a7e",
      "metadata": {
        "id": "bf863a7e"
      },
      "outputs": [],
      "source": [
        "# Distribution of missing values\n",
        "vuelta1.isnull().sum()"
      ]
    },
    {
      "cell_type": "code",
      "execution_count": null,
      "id": "lyfvJRPethJB",
      "metadata": {
        "id": "lyfvJRPethJB"
      },
      "outputs": [],
      "source": [
        "## TipoOrganizacionPolitica?\n",
        "vuelta1[vuelta1.TipoOrganizacionPolitica.isnull()]"
      ]
    },
    {
      "cell_type": "code",
      "execution_count": null,
      "id": "loOFbGT-t2lh",
      "metadata": {
        "id": "loOFbGT-t2lh"
      },
      "outputs": [],
      "source": [
        "## Votos\n",
        "vuelta1[vuelta1.Votos.isnull()]"
      ]
    },
    {
      "cell_type": "code",
      "execution_count": null,
      "id": "655c82a1",
      "metadata": {
        "id": "655c82a1"
      },
      "outputs": [],
      "source": [
        "# replace by zero.\n",
        "vuelta1['Votos']=vuelta1.loc[:,'Votos'].fillna(0)"
      ]
    },
    {
      "cell_type": "markdown",
      "id": "51caa630",
      "metadata": {
        "id": "51caa630"
      },
      "source": [
        "# Information at the Province level\n",
        "\n",
        "Let's work with the column **OrganizacionPolitica** organized by **Provincia**."
      ]
    },
    {
      "cell_type": "code",
      "execution_count": null,
      "id": "2ee5781e",
      "metadata": {
        "id": "2ee5781e"
      },
      "outputs": [],
      "source": [
        "# this is a WIDE shape!\n",
        "provincias=pd.pivot_table(vuelta1, values=\"Votos\",\n",
        "                          index=[\"Region\", \"Provincia\"],\n",
        "                          columns=[\"OrganizacionPolitica\"])\n",
        "provincias"
      ]
    },
    {
      "cell_type": "markdown",
      "id": "3224d529",
      "metadata": {
        "id": "3224d529"
      },
      "source": [
        "Let's compute some indicators from these data:"
      ]
    },
    {
      "cell_type": "code",
      "execution_count": null,
      "id": "497e12c3",
      "metadata": {
        "id": "497e12c3"
      },
      "outputs": [],
      "source": [
        "# who won?\n",
        "who_won=provincias.iloc[:,:].idxmax(axis=1)\n",
        "# Where did any if the top-2 win?\n",
        "oneOf_top2_won=party_won.isin(['PARTIDO POLITICO NACIONAL PERU LIBRE','FUERZA POPULAR'])\n",
        "# how many validVotes?\n",
        "votesValid_sum=provincias.iloc[:,:-2].sum(axis=1)\n",
        "# how many votes?\n",
        "votesAll_sum=provincias.iloc[:,:].sum(axis=1)\n",
        "# winner votes?\n",
        "winner_votes=provincias.iloc[:,:-2].max(axis=1)\n",
        "winner_majority=(winner_votes/votesValid_sum)>0.5\n",
        "# where the most competition?\n",
        "effectiveNum=1/provincias.iloc[:,:-2].div(provincias.iloc[:,:-2].sum(axis=1), axis=0).pow(2).sum(axis=1)\n",
        "\n",
        "# new vars:\n",
        "provincias['who_won']=who_won\n",
        "provincias['oneOf_top2_won']=oneOf_top2_won\n",
        "provincias['total_validvotes']=votesValid_sum\n",
        "provincias['total_votes']=votesAll_sum\n",
        "provincias['winner_votes']=winner_votes\n",
        "provincias['winner_majority']=winner_majority\n",
        "provincias['effectiveNum']=effectiveNum.astype(int)\n",
        "provincias['elected_share']=100*provincias.loc[:,'PARTIDO POLITICO NACIONAL PERU LIBRE']/votesValid_sum\n",
        "provincias['elected_majority']=provincias['elected_share']>50\n",
        "provincias['runnerup_share']=100*provincias.loc[:,'FUERZA POPULAR']/votesValid_sum\n",
        "provincias['runnerup_majority']=provincias['runnerup_share']>50"
      ]
    },
    {
      "cell_type": "code",
      "execution_count": null,
      "id": "be30b681-ee98-4364-9157-9019ba6221a3",
      "metadata": {
        "id": "be30b681-ee98-4364-9157-9019ba6221a3"
      },
      "outputs": [],
      "source": [
        "ProvRegionData=provincias.loc[:,'who_won'::].reset_index()\n",
        "ProvRegionData"
      ]
    },
    {
      "cell_type": "markdown",
      "id": "13cdf978-fc66-47ac-ae20-3a5a151276ed",
      "metadata": {
        "id": "13cdf978-fc66-47ac-ae20-3a5a151276ed"
      },
      "source": [
        "## <div class=\"alert alert-danger\" role=\"alert\">Merging data into map</div>"
      ]
    },
    {
      "cell_type": "code",
      "execution_count": null,
      "id": "2e666889-4362-447c-9b65-a9a06524a97b",
      "metadata": {
        "id": "2e666889-4362-447c-9b65-a9a06524a97b"
      },
      "outputs": [],
      "source": [
        "# shapefile\n",
        "linkMap=\"https://github.com/MagallanesTalks/OpenBigData_atPUCP/raw/refs/heads/main/map/PROVINCIAS.shp\"\n",
        "\n",
        "# read the map\n",
        "import geopandas as gpd\n",
        "mapaProv=gpd.read_file(linkMap)\n",
        "mapaProv.head()"
      ]
    },
    {
      "cell_type": "markdown",
      "id": "bebab315-7514-4d80-bc22-2267fa3d4b66",
      "metadata": {
        "id": "bebab315-7514-4d80-bc22-2267fa3d4b66"
      },
      "source": [
        "This will be our **baseMap**:"
      ]
    },
    {
      "cell_type": "code",
      "execution_count": null,
      "id": "2a641998-cf8f-4e3e-a6bd-4aa939277bde",
      "metadata": {
        "id": "2a641998-cf8f-4e3e-a6bd-4aa939277bde"
      },
      "outputs": [],
      "source": [
        "baseMap=mapaProv.plot(color='white',edgecolor='grey', linewidth=0.1)\n",
        "baseMap"
      ]
    },
    {
      "cell_type": "markdown",
      "id": "bdf69288-a424-4d18-b163-c2d028f3056f",
      "metadata": {
        "id": "bdf69288-a424-4d18-b163-c2d028f3056f"
      },
      "source": [
        "In order to merge, verify both data share same values in _PROVINCIA_:"
      ]
    },
    {
      "cell_type": "code",
      "execution_count": null,
      "id": "29aec7e0-dc46-48a4-a563-d2e1d7e2a9bd",
      "metadata": {
        "id": "29aec7e0-dc46-48a4-a563-d2e1d7e2a9bd"
      },
      "outputs": [],
      "source": [
        "NotInGeoDF=sorted(list(set(mapaProv.PROVINCIA)-set(ProvRegionData.Provincia)))\n",
        "NotInDF=sorted(list(set(ProvRegionData.Provincia)-set(mapaProv.PROVINCIA)))\n",
        "changesMap={geo:df for geo,df in zip(NotInGeoDF,NotInDF)}\n",
        "\n",
        "# CHANGES NEEDED\n",
        "changesMap"
      ]
    },
    {
      "cell_type": "code",
      "execution_count": null,
      "id": "38d06282-4f52-41ef-87ed-fd5b9eccec21",
      "metadata": {
        "id": "38d06282-4f52-41ef-87ed-fd5b9eccec21"
      },
      "outputs": [],
      "source": [
        "# RECODING\n",
        "mapaProv.replace({'PROVINCIA':changesMap}, inplace=True)\n",
        "\n",
        "# MERGING\n",
        "mapaProvElect=mapaProv.merge(ProvRegionData, left_on='PROVINCIA', right_on='Provincia', how='inner')\n",
        "mapaProvElect.drop(columns=['Region','Provincia'],inplace=True) # drop duplicate info\n",
        "\n",
        "# result\n",
        "mapaProvElect.head()"
      ]
    },
    {
      "cell_type": "markdown",
      "id": "99756b7b-f33b-4ef9-8b36-62516ec0ebb8",
      "metadata": {
        "id": "99756b7b-f33b-4ef9-8b36-62516ec0ebb8"
      },
      "source": [
        "## Information to visualize (I)\n"
      ]
    },
    {
      "cell_type": "markdown",
      "id": "3TlH5xhB5K1Z",
      "metadata": {
        "id": "3TlH5xhB5K1Z"
      },
      "source": [
        "### Where no party won:"
      ]
    },
    {
      "cell_type": "code",
      "execution_count": null,
      "id": "oMf4APJG5KAR",
      "metadata": {
        "id": "oMf4APJG5KAR"
      },
      "outputs": [],
      "source": [
        "mapaProvElect.who_won.value_counts()"
      ]
    },
    {
      "cell_type": "code",
      "execution_count": null,
      "id": "pZbX0k1E8fcr",
      "metadata": {
        "id": "pZbX0k1E8fcr"
      },
      "outputs": [],
      "source": [
        "baseMap=mapaProv.plot(color='white',edgecolor='grey', linewidth=0.1)\n",
        "mapaProvElect[mapaProvElect.who_won=='VOTOS EN BLANCO'].plot(color='black',ax=baseMap)"
      ]
    },
    {
      "cell_type": "markdown",
      "id": "GH1yBzJd_9-O",
      "metadata": {
        "id": "GH1yBzJd_9-O"
      },
      "source": [
        "### Where the future president won 50% or more votes"
      ]
    },
    {
      "cell_type": "code",
      "execution_count": null,
      "id": "EnZHG4a49w1K",
      "metadata": {
        "id": "EnZHG4a49w1K"
      },
      "outputs": [],
      "source": [
        "mapaProvElect.elected_majority.value_counts()"
      ]
    },
    {
      "cell_type": "code",
      "execution_count": null,
      "id": "QdQbRIf--WII",
      "metadata": {
        "id": "QdQbRIf--WII"
      },
      "outputs": [],
      "source": [
        "baseMap=mapaProv.plot(color='white',edgecolor='grey', linewidth=0.1)\n",
        "mapaProvElect[mapaProvElect.elected_majority].plot(color='red',ax=baseMap)"
      ]
    },
    {
      "cell_type": "markdown",
      "id": "ba30f2c1-05db-4cb9-a410-3d6e6e0583e8",
      "metadata": {
        "id": "ba30f2c1-05db-4cb9-a410-3d6e6e0583e8"
      },
      "source": [
        "### Where was low or high competition"
      ]
    },
    {
      "cell_type": "code",
      "execution_count": null,
      "id": "7b459fb1",
      "metadata": {
        "id": "7b459fb1"
      },
      "outputs": [],
      "source": [
        "mapaProvElect.effectiveNum.value_counts()"
      ]
    },
    {
      "cell_type": "code",
      "execution_count": null,
      "id": "on3LI6vk-5v1",
      "metadata": {
        "id": "on3LI6vk-5v1"
      },
      "outputs": [],
      "source": [
        "mapaProvElect.plot(column='effectiveNum', legend=True,cmap=\"Reds\")"
      ]
    },
    {
      "cell_type": "markdown",
      "id": "e8a68106-1ff5-4ba3-a2d1-05a78ee52b4a",
      "metadata": {
        "id": "e8a68106-1ff5-4ba3-a2d1-05a78ee52b4a"
      },
      "source": [
        "## Information to visualize (II)"
      ]
    },
    {
      "cell_type": "markdown",
      "id": "fa1790d1-6bec-4a00-ae99-658b01212bd0",
      "metadata": {
        "id": "fa1790d1-6bec-4a00-ae99-658b01212bd0"
      },
      "source": [
        "Let me pay attention to **runnerup share**:"
      ]
    },
    {
      "cell_type": "code",
      "execution_count": null,
      "id": "50866335-f43f-48fc-bf66-9d6ecc6692d7",
      "metadata": {
        "id": "50866335-f43f-48fc-bf66-9d6ecc6692d7"
      },
      "outputs": [],
      "source": [
        "mapaProvElect.runnerup_share.describe()"
      ]
    },
    {
      "cell_type": "markdown",
      "id": "cbcbd524-d8a8-4a39-b899-2fee2ef5f955",
      "metadata": {
        "id": "cbcbd524-d8a8-4a39-b899-2fee2ef5f955"
      },
      "source": [
        "Let's see the behavior of runnerup_share in the neighborhood:\n",
        "\n"
      ]
    },
    {
      "cell_type": "code",
      "execution_count": null,
      "id": "bwQhwFrCm-mK",
      "metadata": {
        "id": "bwQhwFrCm-mK"
      },
      "outputs": [],
      "source": [
        "# !pip install pysal"
      ]
    },
    {
      "cell_type": "markdown",
      "id": "6VG6ULJ7m9kB",
      "metadata": {
        "id": "6VG6ULJ7m9kB"
      },
      "source": [
        "1. Compute the neighborhood"
      ]
    },
    {
      "cell_type": "code",
      "execution_count": null,
      "id": "9d48c241-1af4-495b-a8ad-3a8d8ab4dd8d",
      "metadata": {
        "id": "9d48c241-1af4-495b-a8ad-3a8d8ab4dd8d"
      },
      "outputs": [],
      "source": [
        "from libpysal.weights import Queen\n",
        "\n",
        "w_queen = Queen.from_dataframe(mapaProvElect,use_index=False)\n",
        "w_queen.transform = 'R'"
      ]
    },
    {
      "cell_type": "markdown",
      "id": "858ff437-03ce-4110-bf92-287251123dac",
      "metadata": {
        "id": "858ff437-03ce-4110-bf92-287251123dac"
      },
      "source": [
        "2. Check if the variable **runnerup_share** shows spatial autocorrelation"
      ]
    },
    {
      "cell_type": "code",
      "execution_count": null,
      "id": "f3e20018",
      "metadata": {
        "id": "f3e20018"
      },
      "outputs": [],
      "source": [
        "from esda.moran import Moran\n",
        "\n",
        "moranRunnerup2021 = Moran(mapaProvElect['runnerup_share'], w_queen)\n",
        "moranRunnerup2021.I,moranRunnerup2021.p_sim"
      ]
    },
    {
      "cell_type": "markdown",
      "id": "84054251-68d5-46d2-9c69-188f6f69dbb6",
      "metadata": {
        "id": "84054251-68d5-46d2-9c69-188f6f69dbb6"
      },
      "source": [
        "3. Compute the local spatial autocorrelation:"
      ]
    },
    {
      "cell_type": "code",
      "execution_count": null,
      "id": "5a7e9947-205e-4eff-b4c6-f86198064d57",
      "metadata": {
        "id": "5a7e9947-205e-4eff-b4c6-f86198064d57"
      },
      "outputs": [],
      "source": [
        "from esda.moran import Moran_Local\n",
        "LisaRunnerup = Moran_Local(y=mapaProvElect['runnerup_share'], w=w_queen,seed=1234)"
      ]
    },
    {
      "cell_type": "markdown",
      "id": "2e272560-747c-47cd-a683-175d53745d2d",
      "metadata": {
        "id": "2e272560-747c-47cd-a683-175d53745d2d"
      },
      "source": [
        "4. Explore results of LISA:"
      ]
    },
    {
      "cell_type": "code",
      "execution_count": null,
      "id": "a37f2b3a",
      "metadata": {
        "id": "a37f2b3a"
      },
      "outputs": [],
      "source": [
        "from splot.esda import moran_scatterplot\n",
        "\n",
        "fig, ax = moran_scatterplot(LisaRunnerup,p=0.05)\n",
        "ax.set_xlabel('LisaRunnerup_std')\n",
        "ax.set_ylabel('SpatialLag_LisaRunnerup_std');"
      ]
    },
    {
      "cell_type": "markdown",
      "id": "82750020-2762-4fc2-8eab-1e2092797e7d",
      "metadata": {
        "id": "82750020-2762-4fc2-8eab-1e2092797e7d"
      },
      "source": [
        "5. Get labels for each province, in order to identify **spots & outliers**:"
      ]
    },
    {
      "cell_type": "code",
      "execution_count": null,
      "id": "95ee5ffc",
      "metadata": {
        "id": "95ee5ffc"
      },
      "outputs": [],
      "source": [
        "# quadrant: 1 HH,  2 LH,  3 LL,  4 HL\n",
        "labels = [ '0 no_sig', '1 hotSpot', '2 coldOutlier', '3 coldSpot', '4 hotOutlier']\n",
        "\n",
        "mapaProvElect['RUNNERUP_quadrant']=[l if p <0.05 else 0 for l,p in zip(LisaRunnerup.q,LisaRunnerup.p_sim)  ]\n",
        "mapaProvElect['RUNNERUP_quadrant']=[labels[i] for i in mapaProvElect['RUNNERUP_quadrant']]\n",
        "mapaProvElect.head()"
      ]
    },
    {
      "cell_type": "markdown",
      "id": "0432ec99-d6cf-4f79-8dfd-23ac2a6a5ef6",
      "metadata": {
        "id": "0432ec99-d6cf-4f79-8dfd-23ac2a6a5ef6"
      },
      "source": [
        "We have what is needed:"
      ]
    },
    {
      "cell_type": "code",
      "execution_count": null,
      "id": "019055d8-1b02-48a9-a59f-b5d21850019a",
      "metadata": {
        "id": "019055d8-1b02-48a9-a59f-b5d21850019a"
      },
      "outputs": [],
      "source": [
        "mapaProvElect.RUNNERUP_quadrant.value_counts()"
      ]
    },
    {
      "cell_type": "markdown",
      "id": "82331038-2f60-4e6a-994f-006350d2d660",
      "metadata": {
        "id": "82331038-2f60-4e6a-994f-006350d2d660"
      },
      "source": [
        "Now the map:"
      ]
    },
    {
      "cell_type": "code",
      "execution_count": null,
      "id": "0b1ea51b",
      "metadata": {
        "colab": {
          "background_save": true
        },
        "id": "0b1ea51b"
      },
      "outputs": [],
      "source": [
        "domain_ = labels\n",
        "range_ = ['gainsboro', 'purple', 'lime','orange','orchid']\n",
        "\n",
        "theMap_LISA=alt.Chart(mapaProvElect)\n",
        "theMap_LISA_encodings=theMap_LISA.encode(\n",
        "                                        alt.Color('RUNNERUP_quadrant',\n",
        "                                                  scale=alt.Scale(domain=domain_,\n",
        "                                                                  range=range_),\n",
        "                                                  title = \"RUNNERUP_quadrant\",\n",
        "                                                  legend=alt.Legend(orient='none',\n",
        "                                                                    direction='horizontal',\n",
        "                                                                    titleAnchor='middle',\n",
        "                                                                    legendY=-40,\n",
        "                                                                    legendX=150)),\n",
        "                                        tooltip=['PROVINCIA']).properties(width=800,\n",
        "                                                                          height=500)\n",
        "\n",
        "theMap_LISA_encodings.mark_geoshape()"
      ]
    },
    {
      "cell_type": "code",
      "execution_count": null,
      "id": "5853a3e2",
      "metadata": {
        "id": "5853a3e2"
      },
      "outputs": [],
      "source": [
        "# You may save\n",
        "# mapaProvElect.to_file(\"mapaProvElect_2021.geojson\", driver='GeoJSON')"
      ]
    }
  ],
  "metadata": {
    "colab": {
      "provenance": []
    },
    "kernelspec": {
      "display_name": "Python 3 (ipykernel)",
      "language": "python",
      "name": "python3"
    },
    "language_info": {
      "codemirror_mode": {
        "name": "ipython",
        "version": 3
      },
      "file_extension": ".py",
      "mimetype": "text/x-python",
      "name": "python",
      "nbconvert_exporter": "python",
      "pygments_lexer": "ipython3",
      "version": "3.11.9"
    }
  },
  "nbformat": 4,
  "nbformat_minor": 5
}